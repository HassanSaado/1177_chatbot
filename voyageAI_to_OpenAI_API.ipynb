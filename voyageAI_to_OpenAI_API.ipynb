{
 "cells": [
  {
   "cell_type": "code",
   "execution_count": 4,
   "metadata": {},
   "outputs": [],
   "source": [
    "#import \n",
    "\n",
    "import os\n",
    "from dotenv import load_dotenv\n",
    "import voyageai\n",
    "from sklearn.metrics.pairwise import cosine_similarity\n",
    "from openai import OpenAI\n",
    "import openai\n",
    "import numpy as np\n"
   ]
  },
  {
   "cell_type": "code",
   "execution_count": 5,
   "metadata": {},
   "outputs": [],
   "source": [
    "#load .env file and apikey\n",
    "\n",
    "load_dotenv()\n",
    "\n",
    "api_key = os.getenv(\"VOYAGI_AI_API_KEY\")\n",
    "api_key_OPENAI = os.getenv(\"OPENAI_API_KEY\")"
   ]
  },
  {
   "cell_type": "code",
   "execution_count": 6,
   "metadata": {},
   "outputs": [],
   "source": [
    "#test documents for the vectordatabase\n",
    "\n",
    "documents = ['Renas  is from kurdistan and has a cat', \n",
    "             'Renas  is a kurdish guerilla fighter, he is fighting for kurdish independence', \n",
    "             'Hassan Saado i a swedish gangster who can bench 150kg',\n",
    "              \"Renas favorite food in runescape is burnt lobster and he likes to eat it every fridag.\", \n",
    "              \"Renas and Hassan meet when studying at Uppsala university, they studied chemistry in starting 2016, but they both dropped out to pursue computer science.\" ]\n",
    "\n"
   ]
  },
  {
   "cell_type": "code",
   "execution_count": 7,
   "metadata": {},
   "outputs": [],
   "source": [
    "# Initialize the client and embedd the documents\n",
    "vo = voyageai.Client(api_key)\n",
    "\n",
    "batch_size = 128\n",
    "documents_emb = [\n",
    "    vo.embed(\n",
    "        documents[i:i + batch_size], model=\"voyage-2\", input_type=\"document\",\n",
    "    ).embeddings\n",
    "    for i in range(0, len(documents), batch_size)\n",
    "]"
   ]
  },
  {
   "cell_type": "code",
   "execution_count": 8,
   "metadata": {},
   "outputs": [],
   "source": [
    "query = \"when did hassan an renas start studying?\"\n",
    "\n",
    "# Get the embedding of the query\n",
    "query_emb = vo.embed(\n",
    "    [query], model=\"voyage-2\", input_type=\"query\"\n",
    ").embeddings[0]"
   ]
  },
  {
   "cell_type": "code",
   "execution_count": 9,
   "metadata": {},
   "outputs": [
    {
     "name": "stdout",
     "output_type": "stream",
     "text": [
      "<class 'numpy.ndarray'>\n",
      "<class 'numpy.ndarray'>\n",
      "<class 'numpy.ndarray'>\n",
      "<class 'numpy.ndarray'>\n",
      "<class 'numpy.ndarray'>\n",
      "ChatCompletionMessage(content='Renas and Hassan started studying at Uppsala University in early 2016.', role='assistant', function_call=None, tool_calls=None)\n"
     ]
    }
   ],
   "source": [
    "distances_list = []\n",
    "\n",
    "for i in range(len(documents_emb[0])):\n",
    "\n",
    "        list_first_doc = np.array(documents_emb[0][i])\n",
    "        query_emb1 = np.array(query_emb)\n",
    "        result = cosine_similarity(list_first_doc.reshape(1, -1),query_emb1.reshape(1, -1))\n",
    "        print(type(result))\n",
    "        result = float(result)\n",
    "        distances_list.append(result)\n",
    "\n",
    "index_of_max = distances_list.index(max(distances_list))\n",
    "\n",
    "\n",
    "# Initialize OpenAI API\n",
    "\n",
    "load_dotenv()\n",
    "\n",
    "\n",
    "# Take the retrieved document and use it as a prompt for the text generation model\n",
    "prompt = f\"Based on the information: '{documents[index_of_max]}', {query}\"\n",
    "\n",
    "from openai import OpenAI\n",
    "client = OpenAI()\n",
    "openai.api_key = os.getenv(\"OPENAI_API_KEY\")\n",
    "\n",
    "completion = client.chat.completions.create(\n",
    "  model=\"gpt-3.5-turbo\",\n",
    "  messages=[\n",
    "        {\"role\": \"system\", \"content\": \"You are a helpful assistant.\"},\n",
    "        {\"role\": \"user\", \"content\": prompt}\n",
    "  ]\n",
    ")\n",
    "\n",
    "print(completion.choices[0].message)\n",
    "   "
   ]
  }
 ],
 "metadata": {
  "kernelspec": {
   "display_name": "Python 3",
   "language": "python",
   "name": "python3"
  },
  "language_info": {
   "codemirror_mode": {
    "name": "ipython",
    "version": 3
   },
   "file_extension": ".py",
   "mimetype": "text/x-python",
   "name": "python",
   "nbconvert_exporter": "python",
   "pygments_lexer": "ipython3",
   "version": "3.10.11"
  }
 },
 "nbformat": 4,
 "nbformat_minor": 2
}
