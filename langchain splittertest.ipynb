{
 "cells": [
  {
   "cell_type": "code",
   "execution_count": 33,
   "metadata": {},
   "outputs": [],
   "source": [
    "from langchain.text_splitter import RecursiveCharacterTextSplitter\n",
    "\n",
    "filepath = 'c:\\\\Users\\\\ehsaaas\\\\osrs_chatbot\\\\web_scraping\\\\scraped_texts\\\\1177-text_560.txt'\n",
    "\n",
    "\n",
    "\n",
    "with open(filepath, 'r', encoding='utf-8') as file:\n",
    " # Read the contents of the file\n",
    "    content = file.read()\n",
    "\n",
    "\n",
    "\n",
    "#c:\\Users\\ehsaaas\\osrs_chatbot\\web_scraping\\scraped_texts\\1177-texts_550.txt'"
   ]
  },
  {
   "cell_type": "code",
   "execution_count": 40,
   "metadata": {},
   "outputs": [],
   "source": [
    "text_splitter = RecursiveCharacterTextSplitter(\n",
    "    # Set a really small chunk size, just to show.\n",
    "    chunk_size=600,\n",
    "    chunk_overlap=200,\n",
    "    length_function=len,\n",
    "    is_separator_regex=False,\n",
    ")"
   ]
  },
  {
   "cell_type": "code",
   "execution_count": 41,
   "metadata": {},
   "outputs": [
    {
     "name": "stdout",
     "output_type": "stream",
     "text": [
      "page_content='Undersökning & behandling\\nSå fungerar vården\\nStart\\nUndersökning & behandling\\nOperationer\\nFöre och efter operation\\nLevnadsvanor i samband med operation\\nLevnadsvanor i samband med en operation\\nDina levnadsvanor före och efter en operation kan påverka risken för olika komplikationer, och hur fort du återhämtar dig. Det är viktigt att du gör ett uppehåll om du röker eller dricker alkohol. Det är bra om du rör på dig, och att du får i dig den näring du behöver.'\n",
      "\n",
      "\n",
      "page_content='Råden på den här sidan gäller vid stora och små operationer. Du kan ha fått fler eller andra råd av vårdpersonalen. Då ska du följa de råden.\\nRökning – Gör ett uppehåll\\nDet är viktigt att inte röka före och efter en operation. Det minskar risken för komplikationer.\\nSå här påverkar du resultatet av operationen om du gör ett uppehåll med rökningen:\\nRisken minskar för besvär med såret efter operationen, till exempel att det spricker upp eller tar längre tid att läka.\\nImmunförsvaret fungerar bättre.\\nRisken för en infektion i såret minskar.'\n",
      "\n",
      "\n",
      "page_content='Risken minskar för besvär med såret efter operationen, till exempel att det spricker upp eller tar längre tid att läka.\\nImmunförsvaret fungerar bättre.\\nRisken för en infektion i såret minskar.\\nRisken minskar för lunginflammation och andra besvär i lungorna.\\nHur länge behöver jag göra ett uppehåll med rökningen?\\nRiktlinjerna kan variera beroende på var i landet du bor. Det är vanligt att behöva göra ett uppehåll med rökningen så här länge, både vid stora och små operationer:\\nHelst 8 veckor, men minst 4 veckor före operationen.\\nHelst 8 veckor, men minst 4 veckor efter operationen.'\n"
     ]
    }
   ],
   "source": [
    "texts = text_splitter.create_documents([content])\n",
    "print(texts[1])\n",
    "print('\\n')\n",
    "print(texts[2])\n",
    "print('\\n')\n",
    "print(texts[3])"
   ]
  },
  {
   "cell_type": "code",
   "execution_count": 42,
   "metadata": {},
   "outputs": [
    {
     "name": "stdout",
     "output_type": "stream",
     "text": [
      "20\n"
     ]
    }
   ],
   "source": [
    "print(len(texts))"
   ]
  }
 ],
 "metadata": {
  "kernelspec": {
   "display_name": "Python 3",
   "language": "python",
   "name": "python3"
  },
  "language_info": {
   "codemirror_mode": {
    "name": "ipython",
    "version": 3
   },
   "file_extension": ".py",
   "mimetype": "text/x-python",
   "name": "python",
   "nbconvert_exporter": "python",
   "pygments_lexer": "ipython3",
   "version": "3.11.6"
  }
 },
 "nbformat": 4,
 "nbformat_minor": 2
}
